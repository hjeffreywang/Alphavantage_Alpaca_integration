{
 "cells": [
  {
   "cell_type": "code",
   "execution_count": 13,
   "metadata": {},
   "outputs": [],
   "source": [
    "import datetime\n",
    "import numpy as np\n",
    "import alpaca_trade_api as  tradeapi\n",
    "import time\n",
    "import talib as ta\n",
    "import math \n",
    "import sys\n",
    "sys.path.insert(0, '../')\n",
    "import pandas as pd\n",
    "from datetime import timedelta"
   ]
  },
  {
   "cell_type": "code",
   "execution_count": 2,
   "metadata": {},
   "outputs": [],
   "source": [
    "from config import key_id, secret_key, poly_key_id, alpha_api_key \n",
    "import requests"
   ]
  },
  {
   "cell_type": "code",
   "execution_count": 3,
   "metadata": {},
   "outputs": [],
   "source": [
    "#The url at the end is what makes a paper trading bot\n",
    "api = tradeapi.REST(key_id, secret_key)"
   ]
  },
  {
   "cell_type": "code",
   "execution_count": 4,
   "metadata": {},
   "outputs": [],
   "source": [
    "today = datetime.datetime.today().date() # or datetime.now to use local timezone\n",
    "daystart=pd.Timestamp(year=today.year, month=today.month, day=today.day, hour=0,tz='America/New_York').isoformat()"
   ]
  },
  {
   "cell_type": "code",
   "execution_count": 5,
   "metadata": {},
   "outputs": [],
   "source": [
    "#alpha vantage\n",
    "#  standard API volume limit (5 API requests per minute; 500 API requests per day)\n",
    "def get_intraday_data(symbol, interval,alpha_api_key):\n",
    "    api_key = alpha_api_key\n",
    "    api_url = f'https://www.alphavantage.co/query?function=TIME_SERIES_INTRADAY&symbol={symbol}&interval={interval}&apikey={api_key}'\n",
    "    raw_df = requests.get(api_url).json()\n",
    "    df = pd.DataFrame(raw_df[f'Time Series ({interval})']).T\n",
    "    df = df.rename(columns = {'1. open': 'open', '2. high': 'high', '3. low': 'low', '4. close': 'close', '5. volume': 'volume'})\n",
    "    for i in df.columns:\n",
    "        df[i] = df[i].astype(float)\n",
    "    df.index = pd.to_datetime(df.index)\n",
    "    df = df.iloc[::-1]\n",
    "    return df\n"
   ]
  },
  {
   "cell_type": "code",
   "execution_count": 6,
   "metadata": {},
   "outputs": [],
   "source": [
    "#make sure to import these packages\n",
    "from pandas import DataFrame\n",
    "import talib.abstract as tab\n",
    "#abstract automatically extracts the columns and periods from the data itself, no input required\n",
    "\n",
    "\n",
    "\n",
    "#feel free to add or subtract more indicators for any other strategy you want to use\n",
    "def populateindicators(dataframe) -> DataFrame:\n",
    "        #exponential moving averages\n",
    "        \n",
    "        dataframe['emaclose'] = tab.EMA(dataframe, timeperiod=4, price='close')\n",
    "        dataframe['minusdi'] = tab.MINUS_DI(dataframe, timeperiod=14)\n",
    "        dataframe['plusdi'] = tab.PLUS_DI(dataframe, timeperiod=14)\n",
    "        \n",
    "        dataframe['rsi'] = tab.RSI(dataframe, timeperiod=14, price='close')\n",
    "        dataframe['adx'] = tab.ADX(dataframe)\n",
    "        dataframe['emapulse'] = ta.RSI(dataframe['emaclose'], timeperiod=3)\n",
    "        # required for graphing\n",
    "\n",
    "        return dataframe"
   ]
  },
  {
   "cell_type": "code",
   "execution_count": 7,
   "metadata": {},
   "outputs": [
    {
     "name": "stdout",
     "output_type": "stream",
     "text": [
      "ACTIVE\n"
     ]
    },
    {
     "data": {
      "text/plain": [
       "'3034.5698'"
      ]
     },
     "execution_count": 7,
     "metadata": {},
     "output_type": "execute_result"
    }
   ],
   "source": [
    "account = api.get_account()\n",
    "print(account.status)\n",
    "account.cash"
   ]
  },
  {
   "cell_type": "code",
   "execution_count": 12,
   "metadata": {},
   "outputs": [
    {
     "data": {
      "text/plain": [
       "3034.5698"
      ]
     },
     "execution_count": 12,
     "metadata": {},
     "output_type": "execute_result"
    }
   ],
   "source": [
    "float(account.cash)"
   ]
  },
  {
   "cell_type": "code",
   "execution_count": 8,
   "metadata": {},
   "outputs": [],
   "source": [
    "symbollist=['SPY']\n",
    "#pd.read_csv('1_11.csv').iloc[:,0]\n"
   ]
  },
  {
   "cell_type": "code",
   "execution_count": 9,
   "metadata": {},
   "outputs": [],
   "source": [
    "barTimeframe = \"5min\" # 1min, 5min, 15min"
   ]
  },
  {
   "cell_type": "code",
   "execution_count": 10,
   "metadata": {},
   "outputs": [
    {
     "data": {
      "text/plain": [
       "'2021-05-14'"
      ]
     },
     "execution_count": 10,
     "metadata": {},
     "output_type": "execute_result"
    }
   ],
   "source": [
    "startdate = datetime.datetime.today().strftime(\"%Y-%m-%d\")\n",
    "startdate"
   ]
  },
  {
   "cell_type": "code",
   "execution_count": 11,
   "metadata": {},
   "outputs": [
    {
     "data": {
      "text/plain": [
       "1708"
      ]
     },
     "execution_count": 11,
     "metadata": {},
     "output_type": "execute_result"
    }
   ],
   "source": [
    "currenthour=time.localtime().tm_hour\n",
    "currentminute=time.localtime().tm_min\n",
    "currentsecond=time.localtime().tm_sec\n",
    "currenttime=currenthour*100+currentminute\n",
    "currenttimestamp=api.get_clock().timestamp\n",
    "currenttime"
   ]
  },
  {
   "cell_type": "code",
   "execution_count": null,
   "metadata": {},
   "outputs": [
    {
     "name": "stdout",
     "output_type": "stream",
     "text": [
      "buy GME\n"
     ]
    }
   ],
   "source": [
    "#Limit sell all within a \n",
    "\n",
    "while trade3==True:\n",
    "    #\n",
    "    currenthour=time.localtime().tm_hour\n",
    "    currentminute=time.localtime().tm_min\n",
    "    currentsecond=time.localtime().tm_sec\n",
    "    currenttime=currenthour*100+currentminute\n",
    "    currenttimestamp=api.get_clock().timestamp\n",
    "    \n",
    "    if currenttime >=700 and currenttime <=1100: \n",
    "        try:\n",
    "            assetlist=api.list_positions()\n",
    "        except:\n",
    "            print('http error')\n",
    "        for symbol in symbollist:\n",
    "            returned_data = get_intraday_data(symbol,barTimeframe,alpha_api_key)\n",
    "                    #api.get_barset(symbol,barTimeframe,limit=150).df\n",
    "            data=populateindicators(returned_data)\n",
    "            \n",
    "            if data['emapulse'][-2]<3 //\n",
    "            and data['close'][-1]>data['close'][-2] //\n",
    "            and data['low'][-1]>data['low'][-2] //\n",
    "            and data['high'][-1]>data['high'][-2]:\n",
    "                #openPo/sition = api.get_position(asset.symbol)\n",
    "                #asksize,bidsize,avgbidprice,avgaskprice=quotelister(quotes)\n",
    "                sizing=math.floor(float(account.cash)/data['close'][-1])\n",
    "                returnedbuy = api.submit_order(symbol,sizing,\"buy\",\"market\",\"gtc\") # Market order to fully close position\n",
    "                print('buy '+symbol)\n",
    "                trade1=False\n",
    "                buyid=returned.id\n",
    "                time.sleep(3)\n",
    "                sellprice=float(api.get_order(buyid).filled_avg_price)+.30\n",
    "                returnedsell = api.submit_order(symbol,sizing,\"sell\",\"limit\",\"gtc\",limit_price=sellprice)\n",
    "\n",
    "\n",
    "\n",
    "\n",
    "    time.sleep(300)\n",
    "if currenttime >=1230:\n",
    "    trade3=False\n",
    "\n"
   ]
  },
  {
   "cell_type": "code",
   "execution_count": null,
   "metadata": {},
   "outputs": [],
   "source": [
    "api.get_order(buyid).cancelled_at"
   ]
  },
  {
   "cell_type": "code",
   "execution_count": null,
   "metadata": {},
   "outputs": [],
   "source": [
    "buyordavg_price"
   ]
  },
  {
   "cell_type": "code",
   "execution_count": null,
   "metadata": {},
   "outputs": [],
   "source": [
    "api.get_order('a8ff7377-4029-4b78-9b98-408b3aeb53d3')"
   ]
  },
  {
   "cell_type": "code",
   "execution_count": null,
   "metadata": {},
   "outputs": [],
   "source": []
  },
  {
   "cell_type": "code",
   "execution_count": null,
   "metadata": {},
   "outputs": [],
   "source": []
  }
 ],
 "metadata": {
  "kernelspec": {
   "display_name": "Python 3",
   "language": "python",
   "name": "python3"
  },
  "language_info": {
   "codemirror_mode": {
    "name": "ipython",
    "version": 3
   },
   "file_extension": ".py",
   "mimetype": "text/x-python",
   "name": "python",
   "nbconvert_exporter": "python",
   "pygments_lexer": "ipython3",
   "version": "3.7.10"
  }
 },
 "nbformat": 4,
 "nbformat_minor": 4
}

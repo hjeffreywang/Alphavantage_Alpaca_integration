{
 "cells": [
  {
   "cell_type": "code",
   "execution_count": 1,
   "metadata": {},
   "outputs": [],
   "source": [
    "import datetime\n",
    "import numpy as np\n",
    "import alpaca_trade_api as  tradeapi\n",
    "import time\n",
    "import talib as ta\n",
    "import sys\n",
    "sys.path.insert(0, '../')\n",
    "import pandas as pd\n",
    "from datetime import timedelta"
   ]
  },
  {
   "cell_type": "code",
   "execution_count": 2,
   "metadata": {},
   "outputs": [],
   "source": [
    "import dtale\n",
    "import plotly\n",
    "import dash"
   ]
  },
  {
   "cell_type": "code",
   "execution_count": 3,
   "metadata": {},
   "outputs": [],
   "source": [
    "from config import key_id, secret_key, poly_key_id, alpha_api_key \n",
    "import cross_signal"
   ]
  },
  {
   "cell_type": "code",
   "execution_count": 4,
   "metadata": {},
   "outputs": [],
   "source": [
    "import requests"
   ]
  },
  {
   "cell_type": "code",
   "execution_count": 5,
   "metadata": {},
   "outputs": [],
   "source": [
    "#make sure to import these packages\n",
    "from pandas import DataFrame\n",
    "import talib.abstract as tab\n",
    "#abstract automatically extracts the columns and periods from the data itself, no input required\n",
    "\n",
    "\n",
    "\n",
    "#feel free to add or subtract more indicators for any other strategy you want to use\n",
    "def populateindicators(dataframe) -> DataFrame:\n",
    "        #exponential moving averages\n",
    "        dataframe['ema_high'] = tab.EMA(dataframe, timeperiod=4, price='high')\n",
    "        dataframe['ema_close'] = tab.EMA(dataframe, timeperiod=4, price='close')\n",
    "        dataframe['ema_low'] = tab.EMA(dataframe, timeperiod=4, price='low')\n",
    "        \n",
    "        dataframe['dema_close'] = tab.DEMA(dataframe, timeperiod=4, price='close')\n",
    "        dataframe['sema_high'] = tab.EMA(dataframe, timeperiod=10, price='high')\n",
    "        dataframe['sema_close'] = tab.EMA(dataframe, timeperiod=10, price='close')\n",
    "        dataframe['sema_low'] = tab.EMA(dataframe, timeperiod=10, price='low')\n",
    "        \n",
    "        dataframe['ssema_close'] = tab.EMA(dataframe, timeperiod=35, price='close')\n",
    "        dataframe['sssema_close'] = tab.EMA(dataframe, timeperiod=40, price='close')\n",
    "        dataframe['ssssema_close'] = tab.EMA(dataframe, timeperiod=45, price='close')\n",
    "        dataframe['chaikosc'] = ta.ADOSC(dataframe['high'],dataframe['low'],dataframe['close'], np.asarray(dataframe['volume'], dtype='float'))\n",
    "        \n",
    "        dataframe['mfi'] = ta.MFI(dataframe['high'],dataframe['low'],dataframe['close'], np.asarray(dataframe['volume'], dtype='float'), timeperiod=14)\n",
    "        dataframe['ultosc'] = ta.ULTOSC(dataframe['high'],dataframe['low'],dataframe['close'])\n",
    "        dataframe['obv'] = ta.OBV(dataframe['close'], np.asarray(dataframe['volume'], dtype='float'))\n",
    "        \n",
    "        \n",
    "        dataframe['minusdi'] = tab.MINUS_DI(dataframe, timeperiod=14)\n",
    "        dataframe['longminusdi'] = tab.MINUS_DI(dataframe, timeperiod=28)\n",
    "        dataframe['plusdi'] = tab.PLUS_DI(dataframe, timeperiod=14)\n",
    "        \n",
    "        dataframe['longminusdi'] = tab.MINUS_DI(dataframe, timeperiod=35)\n",
    "        dataframe['longplusdi'] = tab.PLUS_DI(dataframe, timeperiod=35)\n",
    "        dataframe['splusdi'] = tab.PLUS_DI(dataframe, timeperiod=7)\n",
    "        dataframe['sma']=tab.SMA(dataframe, timeperiod=10, price='close')\n",
    "        dataframe['vwap']=dataframe['sma']*dataframe['volume']\n",
    "        \n",
    "        dataframe['emaminussdi'] = ta.MINUS_DI(dataframe['ema_high'],dataframe['ema_low'],dataframe['ema_close'])\n",
    "        dataframe['emaplusdi'] = ta.PLUS_DI(dataframe['ema_high'],dataframe['ema_low'],dataframe['ema_close'])\n",
    "        dataframe['emaadx'] = ta.ADX(dataframe['ema_high'],dataframe['ema_low'],dataframe['ema_close'])\n",
    "        \n",
    "        dataframe['upperband'], dataframe['midband'], dataframe['lowerband'] = ta.BBANDS(dataframe['close'], timeperiod=5, nbdevup=1, nbdevdn=1, matype=0)\n",
    "        \n",
    "        dataframe['macd'],dataframe['macdsig'],dataframe['hist']= ta.MACD(dataframe['close'], fastperiod=12, slowperiod=26, signalperiod=9)\n",
    "        dataframe['rsi'] = tab.RSI(dataframe, timeperiod=14, price='close')\n",
    "        dataframe['adx'] = tab.ADX(dataframe)\n",
    "        dataframe['shortadx'] = tab.ADX(dataframe, timeperiod=10)\n",
    "        dataframe['srsi'] = tab.RSI(dataframe, timeperiod=3, price='close')\n",
    "        dataframe[\"upperband\"], dataframe[\"middleband\"], dataframe[\"lowerband\"] = ta.BBANDS(dataframe['close'],  nbdevup=1.5, nbdevdn=1.5)\n",
    "        \n",
    "        dataframe['ema_ultosc'] = ta.ULTOSC(dataframe['ema_high'],dataframe['ema_low'],dataframe['ema_close'])\n",
    "        dataframe['ema_rsi'] = ta.RSI(dataframe['ema_close'], timeperiod=3)\n",
    "        dataframe['fema_rsi'] = ta.RSI(dataframe['ema_close'], timeperiod=2)\n",
    "        dataframe['sema_rsi'] = ta.RSI(dataframe['ema_close'], timeperiod=6)\n",
    "        \n",
    "        \n",
    "        dataframe['beta'] = tab.BETA(dataframe)\n",
    "        \n",
    "        dataframe['macd1'],dataframe['macdsig1'],dataframe['hist1']= ta.MACD(dataframe['close'], fastperiod=8, slowperiod=10, signalperiod=7)\n",
    "        \n",
    "        \n",
    "        \"\"\"dataframe['macd_cross1'] =crossed_above(dataframe['macd1'],dataframe['macdsig1'])\n",
    "        dataframe['macd_cross'] =crossed_above(dataframe['macd'],dataframe['macdsig'])\n",
    "        dataframe['adxcross1'] =crossed_above(dataframe['adx'],17)\n",
    "        dataframe['adxcross2'] =crossed_above(dataframe['adx'],27)\n",
    "        dataframe['adxcross3'] =crossed_above(dataframe['adx'],35)\n",
    "        \"\"\"\n",
    "        # required for graphing\n",
    "\n",
    "        return dataframe"
   ]
  },
  {
   "cell_type": "code",
   "execution_count": 6,
   "metadata": {},
   "outputs": [],
   "source": [
    "#alpha vantage\n",
    "#  standard API volume limit (5 API requests per minute; 500 API requests per day)\n",
    "def get_intraday_data(symbol, interval,alpha_api_key):\n",
    "    api_key = alpha_api_key\n",
    "    api_url = f'https://www.alphavantage.co/query?function=TIME_SERIES_INTRADAY&symbol={symbol}&interval={interval}&apikey={api_key}'\n",
    "    raw_df = requests.get(api_url).json()\n",
    "    df = pd.DataFrame(raw_df[f'Time Series ({interval})']).T\n",
    "    df = df.rename(columns = {'1. open': 'open', '2. high': 'high', '3. low': 'low', '4. close': 'close', '5. volume': 'volume'})\n",
    "    for i in df.columns:\n",
    "        df[i] = df[i].astype(float)\n",
    "    df.index = pd.to_datetime(df.index)\n",
    "    df = df.iloc[::-1]\n",
    "    return df\n"
   ]
  },
  {
   "cell_type": "code",
   "execution_count": 7,
   "metadata": {},
   "outputs": [],
   "source": [
    "#The url at the end is what makes a paper trading bot\n",
    "api = tradeapi.REST(key_id, secret_key)\n",
    "api2=tradeapi.REST(poly_key_id, secret_key)"
   ]
  },
  {
   "cell_type": "code",
   "execution_count": 8,
   "metadata": {},
   "outputs": [
    {
     "data": {
      "text/html": [
       "<div>\n",
       "<style scoped>\n",
       "    .dataframe tbody tr th:only-of-type {\n",
       "        vertical-align: middle;\n",
       "    }\n",
       "\n",
       "    .dataframe tbody tr th {\n",
       "        vertical-align: top;\n",
       "    }\n",
       "\n",
       "    .dataframe thead th {\n",
       "        text-align: right;\n",
       "    }\n",
       "</style>\n",
       "<table border=\"1\" class=\"dataframe\">\n",
       "  <thead>\n",
       "    <tr style=\"text-align: right;\">\n",
       "      <th></th>\n",
       "      <th>open</th>\n",
       "      <th>high</th>\n",
       "      <th>low</th>\n",
       "      <th>close</th>\n",
       "      <th>volume</th>\n",
       "    </tr>\n",
       "    <tr>\n",
       "      <th>date_index</th>\n",
       "      <th></th>\n",
       "      <th></th>\n",
       "      <th></th>\n",
       "      <th></th>\n",
       "      <th></th>\n",
       "    </tr>\n",
       "  </thead>\n",
       "  <tbody>\n",
       "    <tr>\n",
       "      <th>2021-05-13 11:45:00</th>\n",
       "      <td>410.58</td>\n",
       "      <td>410.58</td>\n",
       "      <td>409.3400</td>\n",
       "      <td>409.360</td>\n",
       "      <td>1328995.0</td>\n",
       "    </tr>\n",
       "    <tr>\n",
       "      <th>2021-05-13 11:50:00</th>\n",
       "      <td>409.35</td>\n",
       "      <td>410.01</td>\n",
       "      <td>409.2101</td>\n",
       "      <td>409.970</td>\n",
       "      <td>1162479.0</td>\n",
       "    </tr>\n",
       "    <tr>\n",
       "      <th>2021-05-13 11:55:00</th>\n",
       "      <td>409.96</td>\n",
       "      <td>410.21</td>\n",
       "      <td>409.7800</td>\n",
       "      <td>410.065</td>\n",
       "      <td>598494.0</td>\n",
       "    </tr>\n",
       "    <tr>\n",
       "      <th>2021-05-13 12:00:00</th>\n",
       "      <td>410.05</td>\n",
       "      <td>410.22</td>\n",
       "      <td>409.4000</td>\n",
       "      <td>409.665</td>\n",
       "      <td>1073364.0</td>\n",
       "    </tr>\n",
       "    <tr>\n",
       "      <th>2021-05-13 12:05:00</th>\n",
       "      <td>409.67</td>\n",
       "      <td>410.39</td>\n",
       "      <td>409.4700</td>\n",
       "      <td>409.800</td>\n",
       "      <td>1251471.0</td>\n",
       "    </tr>\n",
       "    <tr>\n",
       "      <th>...</th>\n",
       "      <td>...</td>\n",
       "      <td>...</td>\n",
       "      <td>...</td>\n",
       "      <td>...</td>\n",
       "      <td>...</td>\n",
       "    </tr>\n",
       "    <tr>\n",
       "      <th>2021-05-13 19:40:00</th>\n",
       "      <td>410.97</td>\n",
       "      <td>411.00</td>\n",
       "      <td>410.2200</td>\n",
       "      <td>410.460</td>\n",
       "      <td>17523.0</td>\n",
       "    </tr>\n",
       "    <tr>\n",
       "      <th>2021-05-13 19:45:00</th>\n",
       "      <td>410.46</td>\n",
       "      <td>410.92</td>\n",
       "      <td>410.4600</td>\n",
       "      <td>410.920</td>\n",
       "      <td>6846.0</td>\n",
       "    </tr>\n",
       "    <tr>\n",
       "      <th>2021-05-13 19:50:00</th>\n",
       "      <td>410.99</td>\n",
       "      <td>411.17</td>\n",
       "      <td>410.9100</td>\n",
       "      <td>410.910</td>\n",
       "      <td>7672.0</td>\n",
       "    </tr>\n",
       "    <tr>\n",
       "      <th>2021-05-13 19:55:00</th>\n",
       "      <td>411.00</td>\n",
       "      <td>411.05</td>\n",
       "      <td>410.9700</td>\n",
       "      <td>411.050</td>\n",
       "      <td>13149.0</td>\n",
       "    </tr>\n",
       "    <tr>\n",
       "      <th>2021-05-13 20:00:00</th>\n",
       "      <td>411.07</td>\n",
       "      <td>411.10</td>\n",
       "      <td>411.0000</td>\n",
       "      <td>411.000</td>\n",
       "      <td>27271.0</td>\n",
       "    </tr>\n",
       "  </tbody>\n",
       "</table>\n",
       "<p>100 rows × 5 columns</p>\n",
       "</div>"
      ],
      "text/plain": [
       "                       open    high       low    close     volume\n",
       "date_index                                                       \n",
       "2021-05-13 11:45:00  410.58  410.58  409.3400  409.360  1328995.0\n",
       "2021-05-13 11:50:00  409.35  410.01  409.2101  409.970  1162479.0\n",
       "2021-05-13 11:55:00  409.96  410.21  409.7800  410.065   598494.0\n",
       "2021-05-13 12:00:00  410.05  410.22  409.4000  409.665  1073364.0\n",
       "2021-05-13 12:05:00  409.67  410.39  409.4700  409.800  1251471.0\n",
       "...                     ...     ...       ...      ...        ...\n",
       "2021-05-13 19:40:00  410.97  411.00  410.2200  410.460    17523.0\n",
       "2021-05-13 19:45:00  410.46  410.92  410.4600  410.920     6846.0\n",
       "2021-05-13 19:50:00  410.99  411.17  410.9100  410.910     7672.0\n",
       "2021-05-13 19:55:00  411.00  411.05  410.9700  411.050    13149.0\n",
       "2021-05-13 20:00:00  411.07  411.10  411.0000  411.000    27271.0\n",
       "\n",
       "[100 rows x 5 columns]"
      ]
     },
     "execution_count": 8,
     "metadata": {},
     "output_type": "execute_result"
    }
   ],
   "source": [
    "df=get_intraday_data('SPY','5min',alpha_api_key)\n",
    "#This is to make the index available for dtale graphs\n",
    "df.index.name = 'date_index'\n",
    "df"
   ]
  },
  {
   "cell_type": "code",
   "execution_count": 9,
   "metadata": {},
   "outputs": [],
   "source": [
    "data = populateindicators(df)\n",
    "d = dtale.show(df)"
   ]
  },
  {
   "cell_type": "code",
   "execution_count": 10,
   "metadata": {
    "scrolled": true
   },
   "outputs": [
    {
     "data": {
      "text/html": [
       "\n",
       "        <iframe\n",
       "            width=\"100%\"\n",
       "            height=\"475\"\n",
       "            src=\"http://DESKTOP-ANH9TVB:40000/dtale/iframe/1\"\n",
       "            frameborder=\"0\"\n",
       "            allowfullscreen\n",
       "        ></iframe>\n",
       "        "
      ],
      "text/plain": [
       "<IPython.lib.display.IFrame at 0x22b66bb4348>"
      ]
     },
     "metadata": {},
     "output_type": "display_data"
    },
    {
     "data": {
      "text/plain": []
     },
     "execution_count": 10,
     "metadata": {},
     "output_type": "execute_result"
    }
   ],
   "source": [
    "d"
   ]
  },
  {
   "cell_type": "code",
   "execution_count": 11,
   "metadata": {
    "scrolled": true
   },
   "outputs": [
    {
     "data": {
      "text/html": [
       "\n",
       "        <iframe\n",
       "            width=\"100%\"\n",
       "            height=\"800\"\n",
       "            src=\"http://DESKTOP-ANH9TVB:40000/charts/1?chart_type=line&cpg=false\"\n",
       "            frameborder=\"0\"\n",
       "            allowfullscreen\n",
       "        ></iframe>\n",
       "        "
      ],
      "text/plain": [
       "<IPython.lib.display.IFrame at 0x22b66e506c8>"
      ]
     },
     "metadata": {},
     "output_type": "display_data"
    }
   ],
   "source": [
    "d.notebook_charts()"
   ]
  },
  {
   "cell_type": "code",
   "execution_count": null,
   "metadata": {},
   "outputs": [],
   "source": []
  }
 ],
 "metadata": {
  "kernelspec": {
   "display_name": "Python 3",
   "language": "python",
   "name": "python3"
  },
  "language_info": {
   "codemirror_mode": {
    "name": "ipython",
    "version": 3
   },
   "file_extension": ".py",
   "mimetype": "text/x-python",
   "name": "python",
   "nbconvert_exporter": "python",
   "pygments_lexer": "ipython3",
   "version": "3.7.10"
  }
 },
 "nbformat": 4,
 "nbformat_minor": 4
}
